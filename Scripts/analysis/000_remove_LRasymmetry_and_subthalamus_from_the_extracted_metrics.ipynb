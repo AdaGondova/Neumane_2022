{
 "cells": [
  {
   "cell_type": "markdown",
   "metadata": {},
   "source": [
    "### Data cleaning\n",
    "THis notebook aims to:\n",
    "1. remove bundles containing subthalamus.\n",
    "2. remove cortico-cortical bundles involving Paracentral\n",
    "3. merge left and right bundles into the mean (effect of hemi and group not significant in ANCOVA analysis) \n",
    "4. Additionally, once we decide on which NODDI metrics (pre or post to keep), clean that here as well. \n"
   ]
  },
  {
   "cell_type": "code",
   "execution_count": 1,
   "metadata": {},
   "outputs": [],
   "source": [
    "import pandas as pd \n",
    "import numpy as np "
   ]
  },
  {
   "cell_type": "code",
   "execution_count": 6,
   "metadata": {},
   "outputs": [],
   "source": [
    "pairs = [['M1L-Brainstem', 'M1R-Brainstem'],\n",
    "        ['M1L-CaudL', 'M1R-CaudR'], \n",
    "        ['M1L-LentiL', 'M1R-LentiR'], \n",
    "        ['M1L-ThalfusL', 'M1R-ThalfusR'], \n",
    "         ['ParacentralL-Brainstem', 'ParacentralR-Brainstem'],\n",
    "         ['ParacentralL-CaudL', 'ParacentralR-CaudR'],\n",
    "         ['ParacentralL-LentiL', 'ParacentralR-LentiR'],\n",
    "         ['ParacentralL-ThalfusL', 'ParacentralR-ThalfusR'],\n",
    "         ['S1L-Brainstem', 'S1R-Brainstem'],\n",
    "         ['S1L-CaudL', 'S1R-CaudR'], \n",
    "        ['S1L-LentiL', 'S1R-LentiR'],\n",
    "        ['S1L-ThalfusL', 'S1R-ThalfusR'], \n",
    "         ['S1L-M1L', 'S1R-M1R']]"
   ]
  },
  {
   "cell_type": "code",
   "execution_count": 7,
   "metadata": {},
   "outputs": [],
   "source": [
    "# read in the metric files saved as csv\n",
    "controls = pd.read_csv('../../DerivedData/extracted_diffusion_metrics_control_group.csv', index_col=0)\n",
    "preterms = pd.read_csv('../../DerivedData/extracted_diffusion_metrics_preterm_group.csv', index_col=0)\n",
    "\n",
    "#1. remove subthalamus\n",
    "cols_to_keep = [col for col in controls.columns if 'Subthal' not in col]\n",
    "\n",
    "#2. remove cortico-cortical with Paracentral \n",
    "for pair in ['M1R-ParacentralR', 'S1L-ParacentralL',  'ParacentralL-ParacentralR', 'M1L-ParacentralL', 'S1R-ParacentralR']:\n",
    "\n",
    "    cols_to_keep = [col for col in cols_to_keep if pair not in col]\n",
    "    \n",
    "    \n",
    "controls = controls[cols_to_keep]\n",
    "preterms = preterms[cols_to_keep]\n",
    "\n",
    "#2. remove asymmetries\n",
    "\n",
    "for pair in pairs:\n",
    "    for metric in ['FA', 'MD', 'RD', 'AD', 'NDI_post', 'NDI_pre', 'ODI_post', 'ODI_pre']:\n",
    "        \n",
    "        ### controls \n",
    "        new_values_controls = (controls[pair[0]+'_'+metric].values + controls[pair[1]+'_'+metric].values)/2\n",
    "        new_values_preterms = (preterms[pair[0]+'_'+metric].values + preterms[pair[1]+'_'+metric].values)/2\n",
    "        \n",
    "        label = pair[0].replace('L-', '-')\n",
    "        if label[-1] == 'L':\n",
    "            label = label[:-1]\n",
    "      \n",
    "        controls[label+'_'+metric] = new_values_controls\n",
    "        preterms[label+'_'+metric] = new_values_preterms\n",
    "        \n",
    "        controls.drop(columns=pair[0]+'_'+metric, inplace=True)\n",
    "        controls.drop(columns=pair[1]+'_'+metric, inplace=True)\n",
    "        \n",
    "        preterms.drop(columns=pair[0]+'_'+metric, inplace=True)\n",
    "        preterms.drop(columns=pair[1]+'_'+metric, inplace=True)\n",
    "        \n",
    "        \n",
    "#3. remove pre or post NDI\n",
    "\n",
    "cols_to_keep = [col for col in controls.columns if '_pre' not in col]\n",
    "controls = controls[cols_to_keep]\n",
    "preterms = preterms[cols_to_keep]\n",
    "\n",
    "# rename columns \n",
    "controls.columns = controls.columns.str.replace('_post', '') \n",
    "preterms.columns = preterms.columns.str.replace('_post', '') \n",
    "\n",
    "controls.to_csv('../../DerivedData/extracted_diffusion_metrics_control_group_mergedLR.csv')\n",
    "preterms.to_csv('../../DerivedData/extracted_diffusion_metrics_preterm_group_mergedLR.csv')"
   ]
  },
  {
   "cell_type": "code",
   "execution_count": null,
   "metadata": {},
   "outputs": [],
   "source": []
  }
 ],
 "metadata": {
  "kernelspec": {
   "display_name": "Python 3",
   "language": "python",
   "name": "python3"
  },
  "language_info": {
   "codemirror_mode": {
    "name": "ipython",
    "version": 3
   },
   "file_extension": ".py",
   "mimetype": "text/x-python",
   "name": "python",
   "nbconvert_exporter": "python",
   "pygments_lexer": "ipython3",
   "version": "3.7.11"
  }
 },
 "nbformat": 4,
 "nbformat_minor": 4
}
