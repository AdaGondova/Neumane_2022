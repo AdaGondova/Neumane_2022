{
 "cells": [
  {
   "cell_type": "code",
   "execution_count": 1,
   "metadata": {},
   "outputs": [],
   "source": [
    "from soma import aims \n",
    "import numpy as np \n",
    "import pandas as pd \n",
    "import os"
   ]
  },
  {
   "cell_type": "code",
   "execution_count": 8,
   "metadata": {},
   "outputs": [],
   "source": [
    "### extracting regions of interest for cortical parcellation \n",
    "\n",
    "L_DKT = '/neurospin/grip/external_databases/dHCP_CR_JD_2018/Projects/rel3_dhcp_anat_pipeline_analysis/sub-CC00529AN18/ses-170000/anat/sub-CC00529AN18_ses-170000_lh.DKT.label.gii'\n",
    "R_DKT = '/neurospin/grip/external_databases/dHCP_CR_JD_2018/Projects/rel3_dhcp_anat_pipeline_analysis/sub-CC00529AN18/ses-170000/anat/sub-CC00529AN18_ses-170000_rh.DKT.label.gii'\n",
    "\n",
    "iMeshL = '/neurospin/grip/external_databases/dHCP_CR_JD_2018/Projects/rel3_dhcp_anat_pipeline_analysis/sub-CC00529AN18/ses-170000/anat/sub-CC00529AN18_ses-170000_lh.white.surf.gii'\n",
    "iMeshR = '/neurospin/grip/external_databases/dHCP_CR_JD_2018/Projects/rel3_dhcp_anat_pipeline_analysis/sub-CC00529AN18/ses-170000/anat/sub-CC00529AN18_ses-170000_rh.white.surf.gii'"
   ]
  },
  {
   "cell_type": "code",
   "execution_count": 9,
   "metadata": {},
   "outputs": [],
   "source": [
    "### LEFT CORTEX\n",
    "tPARC_L = aims.read(L_DKT)\n",
    "aPARC_L= np.array(tPARC_L)[0]\n",
    "\n",
    "OUT_L = np.zeros_like(aPARC_L)\n",
    "for label in [22,24,17]:\n",
    "    OUT_L[aPARC_L == label] = label\n",
    "    \n",
    "mesh = aims.read(iMeshL)\n",
    "tex = aims.TimeTexture('FLOAT')\n",
    "\n",
    "for i in range(mesh.size()):\n",
    "    vert = np.asarray(mesh.vertex(i))\n",
    "    tex[i].assign(np.zeros((len(vert),), dtype=np.float32))\n",
    "    t = np.asarray(tex[i])\n",
    "    t[:] = OUT_L[:]\n",
    "    aims.write(tex, '../../Results/sub-CC00529AN18_ses-170000_lh_cortical_parcels.gii')\n",
    "\n",
    "### RIGHT CORTEX \n",
    "tPARC_R = aims.read(R_DKT)\n",
    "aPARC_R= np.array(tPARC_R)[0]\n",
    "\n",
    "OUT_R = np.zeros_like(aPARC_R)\n",
    "for label in [22,24,17]:\n",
    "    OUT_R[aPARC_R == label] = label\n",
    "    \n",
    "mesh = aims.read(iMeshR)\n",
    "tex = aims.TimeTexture('FLOAT')\n",
    "\n",
    "for i in range(mesh.size()):\n",
    "    vert = np.asarray(mesh.vertex(i))\n",
    "    tex[i].assign(np.zeros((len(vert),), dtype=np.float32))\n",
    "    t = np.asarray(tex[i])\n",
    "    t[:] = OUT_R[:]\n",
    "    aims.write(tex, '../../Results/sub-CC00529AN18_ses-170000_rh_cortical_parcels.gii')"
   ]
  },
  {
   "cell_type": "code",
   "execution_count": 22,
   "metadata": {},
   "outputs": [],
   "source": [
    "## subcortical"
   ]
  },
  {
   "cell_type": "code",
   "execution_count": 23,
   "metadata": {},
   "outputs": [],
   "source": [
    "iVOL = '/neurospin/grip/external_databases/dHCP_CR_JD_2018/Projects/rel3_dhcp_dmri_shard_pipeline_analysis/sub-CC00529AN18/ses-170000/sub-CC00529AN18_ses-170000.combined.DKT-DRAWEM.volume.shardDMRI.space.nii.gz'\n",
    "tVOL = aims.read(iVOL)\n",
    "aVOL = tVOL.arraydata()[0]\n",
    "\n",
    "nVOL = np.zeros_like(aVOL)\n",
    "for label in [41,40,47,46,19,43,42,87,86]:\n",
    "    nVOL[aVOL == label] = label\n",
    "    \n",
    "## CAUD L == 41, R == 40\n",
    "nVOL[nVOL == 40] = 41\n",
    "## Lenti L==47, R==46\n",
    "nVOL[nVOL == 46] = 47\n",
    "#Thal final =43\n",
    "nVOL[nVOL == 42] = 43\n",
    "nVOL[nVOL == 87] = 43\n",
    "nVOL[nVOL == 86] = 43\n",
    "\n",
    "oVOL = aims.Volume(nVOL)\n",
    "oVOL.header().update(tVOL.header())\n",
    "aims.write(oVOL, '../../Results/sub-CC00529AN18_ses-170000_subcortical_parcels.nii.gz')"
   ]
  },
  {
   "cell_type": "code",
   "execution_count": 20,
   "metadata": {},
   "outputs": [
    {
     "data": {
      "image/png": "[encoded data removed]",
      "text/plain": [
       "<Figure size 432x288 with 1 Axes>"
      ]
     },
     "metadata": {
      "needs_background": "light"
     },
     "output_type": "display_data"
    }
   ],
   "source": [
    "import matplotlib.pyplot as plt \n",
    "plt.imshow(nVOL[:,:,57])\n",
    "plt.show()"
   ]
  },
  {
   "cell_type": "code",
   "execution_count": 4,
   "metadata": {},
   "outputs": [],
   "source": [
    "## create example MD and RD maps fpr twp subjects \n",
    "controls = pd.read_csv('../../DerivedData/control_group_list.csv', header=None)\n",
    "preterms = pd.read_csv('../../DerivedData/preterm_group_list.csv', header=None)\n",
    "\n",
    "subjects = pd.concat([controls, preterms])\n",
    "subjects = subjects[subjects[0].isin(['CC00529AN18', 'CC00731XX14'])]"
   ]
  },
  {
   "cell_type": "code",
   "execution_count": 12,
   "metadata": {},
   "outputs": [
    {
     "name": "stdout",
     "output_type": "stream",
     "text": [
      "CC00731XX14\n",
      "CC00731XX14 214500 RD metric finished\n",
      "CC00731XX14 214500 MD metric finished\n",
      "CC00529AN18\n",
      "CC00529AN18 170000 RD metric finished\n",
      "CC00529AN18 170000 MD metric finished\n"
     ]
    }
   ],
   "source": [
    "for i, row in subjects.iterrows():\n",
    "    print(row[0])\n",
    "    #df_subj = pd.DataFrame()\n",
    "    iDir = '/neurospin/grip/external_databases/dHCP_CR_JD_2018/release3/dhcp_dmri_shard_pipeline/sub-{}/ses-{}/dwi/'.format(\n",
    "                    row[0], row[1])\n",
    "    # ceck that the diffusion directory exists \n",
    "    if os.path.isdir(iDir):\n",
    "                  \n",
    "        ## RD\n",
    "        iPath2 = os.path.join(iDir, 'DTI/dtifit_b1000/sub-{}_ses-{}_L2.nii.gz'.format(\n",
    "                                    row[0], row[1])) \n",
    "        iPath3 = os.path.join(iDir, 'DTI/dtifit_b1000/sub-{}_ses-{}_L3.nii.gz'.format(\n",
    "                                    row[0], row[1])) \n",
    "        a2 = aims.read(iPath2).arraydata()[0]\n",
    "        a3 = aims.read(iPath3).arraydata()[0]\n",
    "        \n",
    "        metric_map = (a2 + a3)/2\n",
    "        \n",
    "        new_im = aims.Volume(metric_map)\n",
    "        new_im.header().update(aims.read(iPath2).header())\n",
    "\n",
    "        aims.write(new_im, '../../Results/figures/{}_{}_RD.nii'.format(row[0], row[1]))\n",
    "        \n",
    "        if os.path.isfile('../../Results/figures/{}_{}_RD.nii'.format(row[0], row[1])):\n",
    "                print('{} {} {} metric finished'.format(row[0], row[1], 'RD'))\n",
    "        \n",
    "        \n",
    "        ## MD\n",
    "        \n",
    "        iPath1 = os.path.join(iDir, 'DTI/dtifit_b1000/sub-{}_ses-{}_L1.nii.gz'.format(\n",
    "                                    row[0], row[1]))\n",
    "        iPath2 = os.path.join(iDir, 'DTI/dtifit_b1000/sub-{}_ses-{}_L2.nii.gz'.format(\n",
    "                                    row[0], row[1])) \n",
    "        iPath3 = os.path.join(iDir, 'DTI/dtifit_b1000/sub-{}_ses-{}_L3.nii.gz'.format(\n",
    "                                    row[0], row[1])) \n",
    "        \n",
    "        a1 = aims.read(iPath1).arraydata()[0]\n",
    "        a2 = aims.read(iPath2).arraydata()[0]\n",
    "        a3 = aims.read(iPath3).arraydata()[0]\n",
    "        \n",
    "        \n",
    "        metric_map =( a1 + a2 + a3)/3\n",
    "        \n",
    "        new_im = aims.Volume(metric_map)\n",
    "        new_im.header().update(aims.read(iPath2).header())\n",
    "\n",
    "        aims.write(new_im, '../../Results/figures/{}_{}_MD.nii'.format(row[0], row[1]))\n",
    "        \n",
    "        if os.path.isfile('../../Results/figures/{}_{}_MD.nii'.format(row[0], row[1])):\n",
    "                print('{} {} {} metric finished'.format(row[0], row[1], 'MD'))"
   ]
  },
  {
   "cell_type": "code",
   "execution_count": null,
   "metadata": {},
   "outputs": [],
   "source": []
  }
 ],
 "metadata": {
  "kernelspec": {
   "display_name": "Python 2",
   "language": "python",
   "name": "python2"
  },
  "language_info": {
   "codemirror_mode": {
    "name": "ipython",
    "version": 2
   },
   "file_extension": ".py",
   "mimetype": "text/x-python",
   "name": "python",
   "nbconvert_exporter": "python",
   "pygments_lexer": "ipython2",
   "version": "2.7.17"
  }
 },
 "nbformat": 4,
 "nbformat_minor": 2
}
