{
 "cells": [
  {
   "cell_type": "code",
   "execution_count": 1,
   "metadata": {},
   "outputs": [],
   "source": [
    "import pandas as pd \n",
    "import numpy as np \n",
    "import seaborn as sns\n",
    "import matplotlib.pyplot as plt\n",
    "from soma import aims"
   ]
  },
  {
   "cell_type": "code",
   "execution_count": 4,
   "metadata": {},
   "outputs": [
    {
     "name": "stdout",
     "output_type": "stream",
     "text": [
      "Number of evaluated bundles: 39\n",
      "Number of subject pairs: 59\n",
      "Extreme group: N = 33\n",
      "Moderate group: N = 26\n"
     ]
    }
   ],
   "source": [
    "# read in the metric files saved as csv\n",
    "controls = pd.read_csv('../../DerivedData/extracted_diffusion_metrics_control_group.csv', index_col=0)\n",
    "preterms = pd.read_csv('../../DerivedData/extracted_diffusion_metrics_preterm_group.csv', index_col=0)\n",
    "\n",
    "### first get all regions pairs, metrics to be evaluated \n",
    "tract_names = np.unique(np.array([tract.split('_')[0] for tract in controls.columns[2:]]))\n",
    "print('Number of evaluated bundles: {}'.format(len(tract_names)))\n",
    "metrics = np.unique(np.array([tract.partition('_')[-1] for tract in controls.columns[2:]]))\n",
    "\n",
    "### create pairing - as there is fewer preterms, use their IDs to find matches with controls \n",
    "matched = pd.read_csv('../../DerivedData/subject_matching.csv', index_col=0)\n",
    "matched = matched[matched['preterm_ID'].isin(preterms['subject_id'].values)]\n",
    "\n",
    "#sanity check: \n",
    "if len(preterms) == len(matched):\n",
    "    print('Number of subject pairs: {}'.format(len(preterms)))\n",
    "else:\n",
    "    print('Someting happened with matching')\n",
    "    \n",
    "# get age at birth info for the subgrouping\n",
    "ages = pd.read_csv('../../SourceData/release3_subject_info.tsv', sep='\\t')\n",
    "\n",
    "matched['preterm_birth_age'] = 0.\n",
    "matched['control_birth_age'] = 0.\n",
    "for i, row in matched.iterrows():\n",
    "    matched.at[i, 'preterm_birth_age']  = ages[ages['participant_id '] == row['preterm_ID']+' ']['birth_age '].values[0]\n",
    "    matched.at[i, 'control_birth_age']  = ages[ages['participant_id '] == row['matched_ID_with_outcome']+' ']['birth_age '].values[0]\n",
    "    \n",
    "### creates subgrouped pairs:\n",
    "extreme_pairs = matched[matched.preterm_birth_age < 32][['preterm_ID','matched_ID_with_outcome']]\n",
    "moderate_pairs = matched[matched.preterm_birth_age >= 32][['preterm_ID','matched_ID_with_outcome']]\n",
    "\n",
    "extreme_pairs.rename(columns={'matched_ID_with_outcome': 'matched_ID'}, inplace=True)\n",
    "moderate_pairs.rename(columns={'matched_ID_with_outcome': 'matched_ID'}, inplace=True)\n",
    "\n",
    "# sanity check \n",
    "if (len(extreme_pairs) + len(moderate_pairs)) == len(matched):\n",
    "    print('Extreme group: N = {}\\nModerate group: N = {}'.format(len(extreme_pairs), len(moderate_pairs)))\n",
    "else:\n",
    "    print('Grouping wrong')\n",
    "    \n",
    "    "
   ]
  },
  {
   "cell_type": "code",
   "execution_count": 5,
   "metadata": {},
   "outputs": [
    {
     "data": {
      "text/plain": [
       "26"
      ]
     },
     "execution_count": 5,
     "metadata": {},
     "output_type": "execute_result"
    }
   ],
   "source": [
    "len(moderate_pairs)"
   ]
  },
  {
   "cell_type": "code",
   "execution_count": 13,
   "metadata": {
    "scrolled": true
   },
   "outputs": [
    {
     "name": "stdout",
     "output_type": "stream",
     "text": [
      "('CC00830XX14', 30710)\n",
      "('CC00939XX24', 36230)\n",
      "('CC00136AN13', 64201)\n",
      "('CC00184XX12', 60501)\n",
      "('CC00855XX14', 530)\n",
      "('CC00589XX21', 184000)\n",
      "('CC00838XX22', 30610)\n",
      "('CC00100XX01', 35000)\n",
      "('CC00997BN25', 56430)\n",
      "('CC00852XX11', 28210)\n",
      "('CC00301XX04', 113001)\n",
      "('CC00427XX15', 130100)\n",
      "('CC00867XX18', 8930)\n",
      "('CC00586XX18', 179000)\n",
      "('CC00770XX12', 1100)\n",
      "('CC00716XX15', 222800)\n",
      "('CC00628XX18', 193500)\n",
      "('CC01198XX20', 140930)\n",
      "('CC00525XX14', 165900)\n",
      "('CC00111XX04', 37002)\n",
      "('CC00672BN13', 214800)\n",
      "('CC00383XX13', 121800)\n",
      "('CC00305XX08', 115700)\n",
      "('CC00477XX16', 141600)\n",
      "('CC00526XX15', 169900)\n",
      "('CC00865XX16', 12330)\n",
      "('CC00284AN13', 111400)\n",
      "('CC00364XX10', 115200)\n",
      "('CC00227XX13', 92100)\n",
      "('CC00424XX12', 129400)\n",
      "('CC00389XX19', 133800)\n",
      "('CC00353XX07', 111000)\n",
      "('CC00621XX11', 195900)\n",
      "('CC00500XX05', 145900)\n",
      "('CC00489XX20', 142900)\n",
      "('CC00122XX07', 42000)\n",
      "('CC00245AN15', 94300)\n",
      "('CC00663XX12', 195000)\n",
      "('CC00245BN15', 94400)\n",
      "('CC00527XX16', 184400)\n",
      "('CC00661XX10', 209600)\n",
      "('CC00537XX18', 157100)\n",
      "('CC00518XX15', 166600)\n",
      "('CC00713XX12', 229000)\n",
      "('CC00747XX22', 238600)\n",
      "('CC00314XX09', 100101)\n",
      "('CC00529BN18', 170100)\n",
      "('CC00485XX16', 143100)\n",
      "('CC00529AN18', 170000)\n",
      "('CC00219XX13', 86600)\n",
      "('CC00576XX16', 178200)\n",
      "('CC00765XX15', 8210)\n",
      "('CC00617XX15', 188400)\n",
      "('CC00067XX10', 20200)\n",
      "('CC01038XX16', 67330)\n",
      "('CC00270XX07', 88600)\n",
      "('CC00823XX15', 27810)\n",
      "('CC00475XX14', 141400)\n",
      "('CC01077XX14', 78430)\n",
      "('CC00593XX17', 189401)\n",
      "('CC00657XX14', 212200)\n",
      "('CC00409XX13', 125600)\n",
      "('CC00284BN13', 111500)\n",
      "('CC00149XX18', 49000)\n",
      "('CC00805XX13', 24210)\n",
      "('CC00497XX20', 144500)\n"
     ]
    }
   ],
   "source": [
    "for i, row in extreme_pairs.iterrows():\n",
    "\n",
    "    for subj in ['preterm', 'control']:\n",
    "        if subj == 'preterm':\n",
    "            subj_id = row[0]\n",
    "            ses_id = matched[matched.preterm_ID == subj_id].preterm_session.values[0]\n",
    "        else: \n",
    "            subj_id = row[1]\n",
    "            ses_id = matched[matched.matched_ID_with_outcome == subj_id].matched_session_with_outcome.values[0]\n",
    "            \n",
    "        print(subj_id, ses_id)\n",
    "        ## WM = 41 & 2 \n",
    "        iRibbon = '/neurospin/grip/external_databases/dHCP_CR_JD_2018/Projects/rel3_dhcp_dmri_shard_pipeline_analysis/sub-{}/ses-{}/sub-{}_ses-{}_desc-ribbon_dseg_shardDMRI_space.nii.gz'.format(subj_id,ses_id, subj_id, ses_id)\n",
    "        wm_ar = aims.read(iRibbon).arraydata()[0]\n",
    "        \n",
    "        wm_mask = np.zeros_like(wm_ar)\n",
    "        wm_mask[wm_ar == 41] = 1\n",
    "        wm_mask[wm_ar == 2] = 1\n",
    "        \n",
    "        for metric in ['AD', 'RD', 'MD', 'FA', 'NDI', 'ODI']:\n",
    "            \n",
    "            m_map = read_in_metric(subj_ID=subj_id, ses_ID=ses_id, metric=metric)\n",
    "            \n",
    "            m_map = m_map * wm_mask\n",
    "            #print(metric, np.mean(m_map))\n",
    "            \n",
    "            #### mean only over the ==1 voxels! \n",
    "            \n",
    "            extreme_pairs.loc[i, subj+'_'+metric] = np.mean(m_map[m_map!=0])\n",
    "        \n",
    "        "
   ]
  },
  {
   "cell_type": "code",
   "execution_count": 15,
   "metadata": {},
   "outputs": [],
   "source": [
    "extreme_pairs.to_csv('../../DerivedData/extreme_pairs_mean_diffusion_metrics_over_WM.csv')"
   ]
  },
  {
   "cell_type": "code",
   "execution_count": 17,
   "metadata": {},
   "outputs": [
    {
     "data": {
      "text/plain": [
       "26"
      ]
     },
     "execution_count": 17,
     "metadata": {},
     "output_type": "execute_result"
    }
   ],
   "source": [
    "len(moderate_pairs)"
   ]
  },
  {
   "cell_type": "code",
   "execution_count": 2,
   "metadata": {},
   "outputs": [],
   "source": [
    "def read_in_metric(subj_ID, ses_ID, metric):\n",
    "    \n",
    "    if metric == 'AD':\n",
    "        \n",
    "        iMetric = '/neurospin/grip/external_databases/dHCP_CR_JD_2018/release3/dhcp_dmri_shard_pipeline/sub-{}/ses-{}/dwi/DTI/dtifit_b1000/sub-{}_ses-{}_L1.nii.gz'.format(\n",
    "                    subj_ID, ses_ID, subj_ID, ses_ID)\n",
    "        metric_map = aims.read(iMetric).arraydata()[0]\n",
    "    elif metric == 'FA':\n",
    "        iMetric = '/neurospin/grip/external_databases/dHCP_CR_JD_2018/release3/dhcp_dmri_shard_pipeline/sub-{}/ses-{}/dwi/DTI/dtifit_b1000/sub-{}_ses-{}_FA.nii.gz'.format(\n",
    "                    subj_ID, ses_ID, subj_ID, ses_ID)\n",
    "        metric_map = aims.read(iMetric).arraydata()[0]\n",
    "        \n",
    "    elif metric == 'RD':\n",
    "        \n",
    "        iMetric2 = '/neurospin/grip/external_databases/dHCP_CR_JD_2018/release3/dhcp_dmri_shard_pipeline/sub-{}/ses-{}/dwi/DTI/dtifit_b1000/sub-{}_ses-{}_L2.nii.gz'.format(\n",
    "                    subj_ID, ses_ID, subj_ID, ses_ID)\n",
    "        iMetric3 = '/neurospin/grip/external_databases/dHCP_CR_JD_2018/release3/dhcp_dmri_shard_pipeline/sub-{}/ses-{}/dwi/DTI/dtifit_b1000/sub-{}_ses-{}_L3.nii.gz'.format(\n",
    "                    subj_ID, ses_ID, subj_ID, ses_ID)\n",
    "        \n",
    "        m2 = aims.read(iMetric2).arraydata()[0]\n",
    "        m3 = aims.read(iMetric3).arraydata()[0]\n",
    "        \n",
    "        metric_map = (m2 + m3)/2\n",
    "        \n",
    "    elif metric == 'MD':\n",
    "        iMetric1 = '/neurospin/grip/external_databases/dHCP_CR_JD_2018/release3/dhcp_dmri_shard_pipeline/sub-{}/ses-{}/dwi/DTI/dtifit_b1000/sub-{}_ses-{}_L1.nii.gz'.format(\n",
    "                    subj_ID, ses_ID, subj_ID, ses_ID)\n",
    "        iMetric2 = '/neurospin/grip/external_databases/dHCP_CR_JD_2018/release3/dhcp_dmri_shard_pipeline/sub-{}/ses-{}/dwi/DTI/dtifit_b1000/sub-{}_ses-{}_L2.nii.gz'.format(\n",
    "                    subj_ID, ses_ID, subj_ID, ses_ID)\n",
    "        iMetric3 = '/neurospin/grip/external_databases/dHCP_CR_JD_2018/release3/dhcp_dmri_shard_pipeline/sub-{}/ses-{}/dwi/DTI/dtifit_b1000/sub-{}_ses-{}_L3.nii.gz'.format(\n",
    "                    subj_ID, ses_ID, subj_ID, ses_ID)\n",
    "        \n",
    "        m1 = aims.read(iMetric1).arraydata()[0]\n",
    "        m2 = aims.read(iMetric2).arraydata()[0]\n",
    "        m3 = aims.read(iMetric3).arraydata()[0]\n",
    "        \n",
    "        metric_map = (m1 + m2 + m3)/3\n",
    "        \n",
    "    elif metric == 'NDI':\n",
    "        iMetric = '/neurospin/grip/external_databases/dHCP_CR_JD_2018/release3/dhcp_dmri_shard_pipeline/sub-{}/ses-{}/dwi/NODDI/mean_fintra.nii.gz'.format(\n",
    "                    subj_ID, ses_ID)\n",
    "        metric_map = aims.read(iMetric).arraydata()[0]\n",
    "        \n",
    "    elif metric == 'ODI':\n",
    "        iMetric = '/neurospin/grip/external_databases/dHCP_CR_JD_2018/release3/dhcp_dmri_shard_pipeline/sub-{}/ses-{}/dwi/NODDI/OD.nii.gz'.format(\n",
    "                    subj_ID, ses_ID)\n",
    "        metric_map = aims.read(iMetric).arraydata()[0]\n",
    "        \n",
    "    return metric_map"
   ]
  },
  {
   "cell_type": "code",
   "execution_count": null,
   "metadata": {},
   "outputs": [],
   "source": []
  },
  {
   "cell_type": "code",
   "execution_count": null,
   "metadata": {},
   "outputs": [],
   "source": []
  }
 ],
 "metadata": {
  "kernelspec": {
   "display_name": "Python 2",
   "language": "python",
   "name": "python2"
  },
  "language_info": {
   "codemirror_mode": {
    "name": "ipython",
    "version": 2
   },
   "file_extension": ".py",
   "mimetype": "text/x-python",
   "name": "python",
   "nbconvert_exporter": "python",
   "pygments_lexer": "ipython2",
   "version": "2.7.17"
  }
 },
 "nbformat": 4,
 "nbformat_minor": 2
}
