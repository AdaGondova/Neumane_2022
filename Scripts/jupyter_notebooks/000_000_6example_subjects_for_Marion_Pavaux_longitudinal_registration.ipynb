{
 "cells": [
  {
   "cell_type": "code",
   "execution_count": 15,
   "metadata": {},
   "outputs": [],
   "source": [
    "import os, shutil"
   ]
  },
  {
   "cell_type": "code",
   "execution_count": 18,
   "metadata": {},
   "outputs": [
    {
     "name": "stdout",
     "output_type": "stream",
     "text": [
      "('sub-CC00618XX16_ses-193600_hemi-left_myelinmap.shape.gii', 'DOES NOT EXIST')\n",
      "('sub-CC00618XX16_ses-193600_hemi-right_myelinmap.shape.gii', 'DOES NOT EXIST')\n",
      "('sub-CC00136AN13_ses-64201_hemi-left_myelinmap.shape.gii', 'DOES NOT EXIST')\n",
      "('sub-CC00136AN13_ses-64201_hemi-right_myelinmap.shape.gii', 'DOES NOT EXIST')\n"
     ]
    }
   ],
   "source": [
    "oDir= '/home/ag265252/Desktop/longit_subset_surf/'\n",
    "\n",
    "for subj in os.listdir(oDir):\n",
    "    for ses in os.listdir(os.path.join(oDir, subj)):\n",
    "        \n",
    "        iDir = '/neurospin/grip/external_databases/dHCP_CR_JD_2018/release3/dhcp_anat_pipeline/{}/{}/anat'.format(subj, ses)\n",
    "        \n",
    "        \n",
    "        for hemi in ['left', 'right']:\n",
    "            for surf in ['wm', 'pial']:\n",
    "                \n",
    "                to_copy_f = '{}_{}_hemi-{}_{}.surf.gii'. format( subj, ses, hemi, surf)\n",
    "                if not os.path.isfile(os.path.join(iDir, to_copy_f)):\n",
    "                    print(to_copy_f, 'DOES NOT EXIST')\n",
    "                else:\n",
    "                    shutil.copyfile(os.path.join(iDir, to_copy_f),\n",
    "                                   os.path.join(oDir, subj, ses, to_copy_f))\n",
    "                    \n",
    "            \n",
    "            for text in ['thickness', 'curv', 'myelinmap']:\n",
    "                 \n",
    "                to_copy_f = '{}_{}_hemi-{}_{}.shape.gii'.format(subj, ses, hemi, text)\n",
    "                if not os.path.isfile(os.path.join(iDir, to_copy_f)):\n",
    "                    print(to_copy_f, 'DOES NOT EXIST')\n",
    "                else:\n",
    "                    shutil.copyfile(os.path.join(iDir, to_copy_f),\n",
    "                                   os.path.join(oDir, subj, ses, to_copy_f))"
   ]
  },
  {
   "cell_type": "code",
   "execution_count": null,
   "metadata": {},
   "outputs": [],
   "source": []
  }
 ],
 "metadata": {
  "kernelspec": {
   "display_name": "Python 2",
   "language": "python",
   "name": "python2"
  },
  "language_info": {
   "codemirror_mode": {
    "name": "ipython",
    "version": 2
   },
   "file_extension": ".py",
   "mimetype": "text/x-python",
   "name": "python",
   "nbconvert_exporter": "python",
   "pygments_lexer": "ipython2",
   "version": "2.7.17"
  }
 },
 "nbformat": 4,
 "nbformat_minor": 2
}
